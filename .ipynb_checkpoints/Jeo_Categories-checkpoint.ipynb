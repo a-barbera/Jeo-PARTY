{
 "cells": [
  {
   "cell_type": "markdown",
   "id": "ca5847ec",
   "metadata": {},
   "source": [
    "# Creating a jeopardy categories database"
   ]
  },
  {
   "cell_type": "code",
   "execution_count": 1,
   "id": "c5d7a349",
   "metadata": {},
   "outputs": [],
   "source": [
    "import requests\n",
    "import json\n",
    "import matplotlib.pyplot as plt\n",
    "import requests\n",
    "import pandas as pd\n",
    "from sqlalchemy import create_engine\n"
   ]
  },
  {
   "cell_type": "code",
   "execution_count": 2,
   "id": "75d1fa76",
   "metadata": {},
   "outputs": [],
   "source": [
    "url = \"http://cluebase.lukelav.in/categories\""
   ]
  },
  {
   "cell_type": "code",
   "execution_count": 3,
   "id": "a54aae55",
   "metadata": {},
   "outputs": [
    {
     "name": "stdout",
     "output_type": "stream",
     "text": [
      "http://cluebase.lukelav.in/categories\n"
     ]
    }
   ],
   "source": [
    "response = requests.get(url)\n",
    "print(response.url)"
   ]
  },
  {
   "cell_type": "code",
   "execution_count": 4,
   "id": "b25041d2",
   "metadata": {},
   "outputs": [
    {
     "name": "stdout",
     "output_type": "stream",
     "text": [
      "{\n",
      "    \"data\": [\n",
      "        {\n",
      "            \"category\": \"SCIENCE\",\n",
      "            \"clue_count\": 911\n",
      "        },\n",
      "        {\n",
      "            \"category\": \"LITERATURE\",\n",
      "            \"clue_count\": 812\n",
      "        },\n",
      "        {\n",
      "            \"category\": \"AMERICAN HISTORY\",\n",
      "            \"clue_count\": 778\n",
      "        },\n",
      "        {\n",
      "            \"category\": \"POTPOURRI\",\n",
      "            \"clue_count\": 744\n",
      "        },\n",
      "        {\n",
      "            \"category\": \"HISTORY\",\n",
      "            \"clue_count\": 723\n",
      "        },\n",
      "        {\n",
      "            \"category\": \"SPORTS\",\n",
      "            \"clue_count\": 693\n",
      "        },\n",
      "        {\n",
      "            \"category\": \"BEFORE & AFTER\",\n",
      "            \"clue_count\": 677\n",
      "        },\n",
      "        {\n",
      "            \"category\": \"WORLD HISTORY\",\n",
      "            \"clue_count\": 649\n",
      "        },\n",
      "        {\n",
      "            \"category\": \"WORD ORIGINS\",\n",
      "            \"clue_count\": 631\n",
      "        },\n",
      "        {\n",
      "            \"category\": \"WORLD GEOGRAPHY\",\n",
      "            \"clue_count\": 612\n",
      "        },\n",
      "        {\n",
      "            \"category\": \"TRANSPORTATION\",\n",
      "            \"clue_count\": 569\n",
      "        },\n",
      "        {\n",
      "            \"category\": \"ART\",\n",
      "            \"clue_count\": 566\n",
      "        },\n",
      "        {\n",
      "            \"category\": \"U.S. CITIES\",\n",
      "            \"clue_count\": 564\n",
      "        },\n",
      "        {\n",
      "            \"category\": \"BUSINESS & INDUSTRY\",\n",
      "            \"clue_count\": 554\n",
      "        },\n",
      "        {\n",
      "            \"category\": \"COLLEGES & UNIVERSITIES\",\n",
      "            \"clue_count\": 542\n",
      "        },\n",
      "        {\n",
      "            \"category\": \"RELIGION\",\n",
      "            \"clue_count\": 534\n",
      "        },\n",
      "        {\n",
      "            \"category\": \"ANIMALS\",\n",
      "            \"clue_count\": 513\n",
      "        },\n",
      "        {\n",
      "            \"category\": \"BODIES OF WATER\",\n",
      "            \"clue_count\": 500\n",
      "        },\n",
      "        {\n",
      "            \"category\": \"BOOKS & AUTHORS\",\n",
      "            \"clue_count\": 499\n",
      "        },\n",
      "        {\n",
      "            \"category\": \"U.S. GEOGRAPHY\",\n",
      "            \"clue_count\": 491\n",
      "        },\n",
      "        {\n",
      "            \"category\": \"WORLD CAPITALS\",\n",
      "            \"clue_count\": 483\n",
      "        },\n",
      "        {\n",
      "            \"category\": \"U.S. HISTORY\",\n",
      "            \"clue_count\": 482\n",
      "        },\n",
      "        {\n",
      "            \"category\": \"RHYME TIME\",\n",
      "            \"clue_count\": 471\n",
      "        },\n",
      "        {\n",
      "            \"category\": \"ISLANDS\",\n",
      "            \"clue_count\": 467\n",
      "        },\n",
      "        {\n",
      "            \"category\": \"LANGUAGES\",\n",
      "            \"clue_count\": 463\n",
      "        },\n",
      "        {\n",
      "            \"category\": \"AUTHORS\",\n",
      "            \"clue_count\": 462\n",
      "        },\n",
      "        {\n",
      "            \"category\": \"FOOD\",\n",
      "            \"clue_count\": 457\n",
      "        },\n",
      "        {\n",
      "            \"category\": \"HODGEPODGE\",\n",
      "            \"clue_count\": 450\n",
      "        },\n",
      "        {\n",
      "            \"category\": \"THE BIBLE\",\n",
      "            \"clue_count\": 446\n",
      "        },\n",
      "        {\n",
      "            \"category\": \"SHAKESPEARE\",\n",
      "            \"clue_count\": 441\n",
      "        },\n",
      "        {\n",
      "            \"category\": \"OPERA\",\n",
      "            \"clue_count\": 436\n",
      "        },\n",
      "        {\n",
      "            \"category\": \"MYTHOLOGY\",\n",
      "            \"clue_count\": 430\n",
      "        },\n",
      "        {\n",
      "            \"category\": \"PEOPLE\",\n",
      "            \"clue_count\": 428\n",
      "        },\n",
      "        {\n",
      "            \"category\": \"CLASSICAL MUSIC\",\n",
      "            \"clue_count\": 427\n",
      "        },\n",
      "        {\n",
      "            \"category\": \"STATE CAPITALS\",\n",
      "            \"clue_count\": 420\n",
      "        },\n",
      "        {\n",
      "            \"category\": \"GEOGRAPHY\",\n",
      "            \"clue_count\": 419\n",
      "        },\n",
      "        {\n",
      "            \"category\": \"BALLET\",\n",
      "            \"clue_count\": 415\n",
      "        },\n",
      "        {\n",
      "            \"category\": \"TELEVISION\",\n",
      "            \"clue_count\": 411\n",
      "        },\n",
      "        {\n",
      "            \"category\": \"ART & ARTISTS\",\n",
      "            \"clue_count\": 406\n",
      "        },\n",
      "        {\n",
      "            \"category\": \"MUSEUMS\",\n",
      "            \"clue_count\": 404\n",
      "        },\n",
      "        {\n",
      "            \"category\": \"NONFICTION\",\n",
      "            \"clue_count\": 402\n",
      "        },\n",
      "        {\n",
      "            \"category\": \"MUSIC\",\n",
      "            \"clue_count\": 391\n",
      "        },\n",
      "        {\n",
      "            \"category\": \"BIOLOGY\",\n",
      "            \"clue_count\": 384\n",
      "        },\n",
      "        {\n",
      "            \"category\": \"FOOD & DRINK\",\n",
      "            \"clue_count\": 370\n",
      "        },\n",
      "        {\n",
      "            \"category\": \"THE CIVIL WAR\",\n",
      "            \"clue_count\": 367\n",
      "        },\n",
      "        {\n",
      "            \"category\": \"COMPOSERS\",\n",
      "            \"clue_count\": 364\n",
      "        },\n",
      "        {\n",
      "            \"category\": \"THE MOVIES\",\n",
      "            \"clue_count\": 363\n",
      "        },\n",
      "        {\n",
      "            \"category\": \"COMMON BONDS\",\n",
      "            \"clue_count\": 362\n",
      "        },\n",
      "        {\n",
      "            \"category\": \"FICTIONAL CHARACTERS\",\n",
      "            \"clue_count\": 361\n",
      "        },\n",
      "        {\n",
      "            \"category\": \"WEIGHTS & MEASURES\",\n",
      "            \"clue_count\": 361\n",
      "        }\n",
      "    ],\n",
      "    \"status\": \"success\"\n",
      "}\n"
     ]
    }
   ],
   "source": [
    "# Storing the JSON response within a variable\n",
    "data = response.json()\n",
    "# Use json.dumps to print the json\n",
    "print(json.dumps(data, indent=4, sort_keys=True))"
   ]
  },
  {
   "cell_type": "code",
   "execution_count": 5,
   "id": "0f4b170d",
   "metadata": {},
   "outputs": [
    {
     "data": {
      "text/plain": [
       "dict_keys(['status', 'data'])"
      ]
     },
     "execution_count": 5,
     "metadata": {},
     "output_type": "execute_result"
    }
   ],
   "source": [
    "data.keys()"
   ]
  },
  {
   "cell_type": "code",
   "execution_count": 6,
   "id": "17df766b",
   "metadata": {},
   "outputs": [
    {
     "data": {
      "text/plain": [
       "{'category': 'SCIENCE', 'clue_count': 911}"
      ]
     },
     "execution_count": 6,
     "metadata": {},
     "output_type": "execute_result"
    }
   ],
   "source": [
    "#Parsing to make sure I'm going into the json file correctly\n",
    "data['data'][0]"
   ]
  },
  {
   "cell_type": "code",
   "execution_count": 7,
   "id": "6f509820",
   "metadata": {},
   "outputs": [],
   "source": [
    "#Creating a dataframe out of the json file\n",
    "df = pd.DataFrame(data['data'])"
   ]
  },
  {
   "cell_type": "code",
   "execution_count": 8,
   "id": "f60a4135",
   "metadata": {},
   "outputs": [
    {
     "data": {
      "text/html": [
       "<div>\n",
       "<style scoped>\n",
       "    .dataframe tbody tr th:only-of-type {\n",
       "        vertical-align: middle;\n",
       "    }\n",
       "\n",
       "    .dataframe tbody tr th {\n",
       "        vertical-align: top;\n",
       "    }\n",
       "\n",
       "    .dataframe thead th {\n",
       "        text-align: right;\n",
       "    }\n",
       "</style>\n",
       "<table border=\"1\" class=\"dataframe\">\n",
       "  <thead>\n",
       "    <tr style=\"text-align: right;\">\n",
       "      <th></th>\n",
       "      <th>category</th>\n",
       "      <th>clue_count</th>\n",
       "    </tr>\n",
       "  </thead>\n",
       "  <tbody>\n",
       "    <tr>\n",
       "      <th>0</th>\n",
       "      <td>SCIENCE</td>\n",
       "      <td>911</td>\n",
       "    </tr>\n",
       "    <tr>\n",
       "      <th>1</th>\n",
       "      <td>LITERATURE</td>\n",
       "      <td>812</td>\n",
       "    </tr>\n",
       "    <tr>\n",
       "      <th>2</th>\n",
       "      <td>AMERICAN HISTORY</td>\n",
       "      <td>778</td>\n",
       "    </tr>\n",
       "    <tr>\n",
       "      <th>3</th>\n",
       "      <td>POTPOURRI</td>\n",
       "      <td>744</td>\n",
       "    </tr>\n",
       "    <tr>\n",
       "      <th>4</th>\n",
       "      <td>HISTORY</td>\n",
       "      <td>723</td>\n",
       "    </tr>\n",
       "    <tr>\n",
       "      <th>5</th>\n",
       "      <td>SPORTS</td>\n",
       "      <td>693</td>\n",
       "    </tr>\n",
       "    <tr>\n",
       "      <th>6</th>\n",
       "      <td>BEFORE &amp; AFTER</td>\n",
       "      <td>677</td>\n",
       "    </tr>\n",
       "    <tr>\n",
       "      <th>7</th>\n",
       "      <td>WORLD HISTORY</td>\n",
       "      <td>649</td>\n",
       "    </tr>\n",
       "    <tr>\n",
       "      <th>8</th>\n",
       "      <td>WORD ORIGINS</td>\n",
       "      <td>631</td>\n",
       "    </tr>\n",
       "    <tr>\n",
       "      <th>9</th>\n",
       "      <td>WORLD GEOGRAPHY</td>\n",
       "      <td>612</td>\n",
       "    </tr>\n",
       "  </tbody>\n",
       "</table>\n",
       "</div>"
      ],
      "text/plain": [
       "           category  clue_count\n",
       "0           SCIENCE         911\n",
       "1        LITERATURE         812\n",
       "2  AMERICAN HISTORY         778\n",
       "3         POTPOURRI         744\n",
       "4           HISTORY         723\n",
       "5            SPORTS         693\n",
       "6    BEFORE & AFTER         677\n",
       "7     WORLD HISTORY         649\n",
       "8      WORD ORIGINS         631\n",
       "9   WORLD GEOGRAPHY         612"
      ]
     },
     "execution_count": 8,
     "metadata": {},
     "output_type": "execute_result"
    }
   ],
   "source": [
    "top_ten = df.head(10)\n",
    "top_ten"
   ]
  },
  {
   "cell_type": "code",
   "execution_count": 9,
   "id": "9addc012",
   "metadata": {},
   "outputs": [
    {
     "data": {
      "image/png": "[encoded data removed]",
      "text/plain": [
       "<Figure size 432x288 with 1 Axes>"
      ]
     },
     "metadata": {
      "needs_background": "light"
     },
     "output_type": "display_data"
    }
   ],
   "source": [
    "# Just playing around with the top ten categories here, nothing to pay attention to.\n",
    "ax = top_ten.plot.bar(x='category', y='clue_count', rot=45)"
   ]
  },
  {
   "cell_type": "code",
   "execution_count": 12,
   "id": "4527345c",
   "metadata": {},
   "outputs": [],
   "source": [
    "connection_string = \"postgres:postgres@localhost:5432/jeoparty\"\n",
    "engine = create_engine(f'postgresql://{connection_string}')"
   ]
  },
  {
   "cell_type": "code",
   "execution_count": 13,
   "id": "c4f68870",
   "metadata": {
    "scrolled": true
   },
   "outputs": [
    {
     "name": "stderr",
     "output_type": "stream",
     "text": [
      "/Users/tobiadel/opt/anaconda3/envs/PythonData/lib/python3.7/site-packages/ipykernel_launcher.py:2: SADeprecationWarning: The Engine.table_names() method is deprecated and will be removed in a future release.  Please refer to Inspector.get_table_names(). (deprecated since: 1.4)\n",
      "  \n"
     ]
    },
    {
     "data": {
      "text/plain": [
       "['contestants']"
      ]
     },
     "execution_count": 13,
     "metadata": {},
     "output_type": "execute_result"
    }
   ],
   "source": [
    "# Confirm existing tables\n",
    "engine.table_names()"
   ]
  },
  {
   "cell_type": "code",
   "execution_count": 14,
   "id": "f0d84c86",
   "metadata": {},
   "outputs": [],
   "source": [
    "df.to_sql(name='categories', con=engine, if_exists='append', index=True)"
   ]
  },
  {
   "cell_type": "code",
   "execution_count": 15,
   "id": "55889820",
   "metadata": {},
   "outputs": [
    {
     "name": "stderr",
     "output_type": "stream",
     "text": [
      "/Users/tobiadel/opt/anaconda3/envs/PythonData/lib/python3.7/site-packages/ipykernel_launcher.py:1: SADeprecationWarning: The Engine.table_names() method is deprecated and will be removed in a future release.  Please refer to Inspector.get_table_names(). (deprecated since: 1.4)\n",
      "  \"\"\"Entry point for launching an IPython kernel.\n"
     ]
    },
    {
     "data": {
      "text/plain": [
       "['contestants', 'categories']"
      ]
     },
     "execution_count": 15,
     "metadata": {},
     "output_type": "execute_result"
    }
   ],
   "source": [
    "#Confirm existing tables\n",
    "engine.table_names()"
   ]
  },
  {
   "cell_type": "code",
   "execution_count": null,
   "id": "77fa508a",
   "metadata": {},
   "outputs": [],
   "source": []
  }
 ],
 "metadata": {
  "kernelspec": {
   "display_name": "PythonData",
   "language": "python",
   "name": "pythondata"
  },
  "language_info": {
   "codemirror_mode": {
    "name": "ipython",
    "version": 3
   },
   "file_extension": ".py",
   "mimetype": "text/x-python",
   "name": "python",
   "nbconvert_exporter": "python",
   "pygments_lexer": "ipython3",
   "version": "3.7.7"
  }
 },
 "nbformat": 4,
 "nbformat_minor": 5
}
