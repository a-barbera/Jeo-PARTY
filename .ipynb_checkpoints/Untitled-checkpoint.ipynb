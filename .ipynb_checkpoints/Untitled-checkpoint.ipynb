{
 "cells": [
  {
   "cell_type": "code",
   "execution_count": 1,
   "id": "4096bb1c",
   "metadata": {},
   "outputs": [],
   "source": [
    "import requests\n",
    "import json"
   ]
  },
  {
   "cell_type": "code",
   "execution_count": 2,
   "id": "342f1bd4",
   "metadata": {},
   "outputs": [],
   "source": [
    "url = \"http://cluebase.lukelav.in/contestants?limit=10&order_by=total_winnings&sort=desc\""
   ]
  },
  {
   "cell_type": "code",
   "execution_count": 3,
   "id": "897214b2",
   "metadata": {},
   "outputs": [
    {
     "name": "stdout",
     "output_type": "stream",
     "text": [
      "http://cluebase.lukelav.in/contestants?limit=10&order_by=total_winnings&sort=desc\n"
     ]
    }
   ],
   "source": [
    "response = requests.get(url)\n",
    "print(response.url)"
   ]
  },
  {
   "cell_type": "code",
   "execution_count": 4,
   "id": "2e51b0f5",
   "metadata": {},
   "outputs": [
    {
     "name": "stdout",
     "output_type": "stream",
     "text": [
      "{\n",
      "    \"data\": [\n",
      "        {\n",
      "            \"games_played\": 94,\n",
      "            \"id\": 208,\n",
      "            \"name\": \"Ken Jennings\",\n",
      "            \"notes\": \"a software engineer from Salt Lake City, Utah\",\n",
      "            \"total_winnings\": 2522700\n",
      "        },\n",
      "        {\n",
      "            \"games_played\": 33,\n",
      "            \"id\": 75,\n",
      "            \"name\": \"James Holzhauer\",\n",
      "            \"notes\": \"a professional sports gambler from Las Vegas, Nevada\",\n",
      "            \"total_winnings\": 2464216\n",
      "        },\n",
      "        {\n",
      "            \"games_played\": 29,\n",
      "            \"id\": 204,\n",
      "            \"name\": \"David Madden\",\n",
      "            \"notes\": \"a student originally from Ridgewood, New Jersey\",\n",
      "            \"total_winnings\": 432400\n",
      "        },\n",
      "        {\n",
      "            \"games_played\": 32,\n",
      "            \"id\": 220,\n",
      "            \"name\": \"Julia Collins\",\n",
      "            \"notes\": \"a supply chain professional from Kenilworth, Illinois\",\n",
      "            \"total_winnings\": 429100\n",
      "        },\n",
      "        {\n",
      "            \"games_played\": 27,\n",
      "            \"id\": 209,\n",
      "            \"name\": \"Matt Jackson\",\n",
      "            \"notes\": \"a paralegal from Washington, D.C.\",\n",
      "            \"total_winnings\": 413612\n",
      "        },\n",
      "        {\n",
      "            \"games_played\": 26,\n",
      "            \"id\": 214,\n",
      "            \"name\": \"Austin Rogers\",\n",
      "            \"notes\": \"a bartender from New York, New York\",\n",
      "            \"total_winnings\": 413000\n",
      "        },\n",
      "        {\n",
      "            \"games_played\": 16,\n",
      "            \"id\": 2117,\n",
      "            \"name\": \"Arthur Chu\",\n",
      "            \"notes\": \"a compliance analyst and voiceover artist from Broadview Heights, Ohio\",\n",
      "            \"total_winnings\": 298200\n",
      "        },\n",
      "        {\n",
      "            \"games_played\": 21,\n",
      "            \"id\": 219,\n",
      "            \"name\": \"Seth Wilson\",\n",
      "            \"notes\": \"a Ph.D. candidate from Chicago, Illinois\",\n",
      "            \"total_winnings\": 267002\n",
      "        },\n",
      "        {\n",
      "            \"games_played\": 14,\n",
      "            \"id\": 2364,\n",
      "            \"name\": \"Tom Nissley\",\n",
      "            \"notes\": \"an online books editor from Seattle, Washington\",\n",
      "            \"total_winnings\": 236405\n",
      "        },\n",
      "        {\n",
      "            \"games_played\": 25,\n",
      "            \"id\": 213,\n",
      "            \"name\": \"Roger Craig\",\n",
      "            \"notes\": \"a graduate student of computer science from Newark, Delaware\",\n",
      "            \"total_winnings\": 231200\n",
      "        }\n",
      "    ],\n",
      "    \"status\": \"success\"\n",
      "}\n"
     ]
    }
   ],
   "source": [
    "# Storing the JSON response within a variable\n",
    "data = response.json()\n",
    "# Use json.dumps to print the json\n",
    "print(json.dumps(data, indent=4, sort_keys=True))"
   ]
  },
  {
   "cell_type": "code",
   "execution_count": null,
   "id": "2c2b899f",
   "metadata": {},
   "outputs": [],
   "source": []
  },
  {
   "cell_type": "code",
   "execution_count": null,
   "id": "b53104b8",
   "metadata": {},
   "outputs": [],
   "source": []
  },
  {
   "cell_type": "code",
   "execution_count": null,
   "id": "ebc38ca4",
   "metadata": {},
   "outputs": [],
   "source": []
  },
  {
   "cell_type": "code",
   "execution_count": null,
   "id": "10f483ce",
   "metadata": {},
   "outputs": [],
   "source": []
  },
  {
   "cell_type": "code",
   "execution_count": null,
   "id": "b81808c5",
   "metadata": {},
   "outputs": [],
   "source": []
  },
  {
   "cell_type": "code",
   "execution_count": null,
   "id": "83d8ded0",
   "metadata": {},
   "outputs": [],
   "source": []
  },
  {
   "cell_type": "code",
   "execution_count": null,
   "id": "bb2a4a99",
   "metadata": {},
   "outputs": [],
   "source": []
  }
 ],
 "metadata": {
  "kernelspec": {
   "display_name": "PythonData",
   "language": "python",
   "name": "pythondata"
  },
  "language_info": {
   "codemirror_mode": {
    "name": "ipython",
    "version": 3
   },
   "file_extension": ".py",
   "mimetype": "text/x-python",
   "name": "python",
   "nbconvert_exporter": "python",
   "pygments_lexer": "ipython3",
   "version": "3.7.7"
  }
 },
 "nbformat": 4,
 "nbformat_minor": 5
}
