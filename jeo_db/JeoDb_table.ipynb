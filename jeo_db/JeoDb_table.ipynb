{
 "cells": [
  {
   "cell_type": "markdown",
   "metadata": {},
   "source": [
    "# READ THIS BEFORE RUNNING THIS NOTEBOOK.\n",
    "## Create a Postgres DB Named 'jeoparty'\n",
    "1. Use pgAdmin to create a postgres database named 'jeoparty'.\n",
    "2. Run the sql script found in 'jeo_tables.sql' in the 'jeoparty' query tool.\n",
    " - This file is found in the same folder as this notebook. \n",
    " - This will create the table to be populated by data pulled from the json file.\n",
    " - No capital letters will be used in the naming of the table, table columns or dataframe columns\n",
    " - postgres has issues with capital letters\n",
    "3. Add your pgAdmin username and password to the 'jeoparty_passwords.py' file before running any cells in this workbook.\n",
    " - This file is also found in the same folder as this notebook.\n",
    " - These values have been defaulted to 'postgres' for both values in the 'jeoparty_passwords.py' file in the repository"
   ]
  },
  {
   "cell_type": "code",
   "execution_count": 1,
   "metadata": {},
   "outputs": [],
   "source": [
    "#Dependencies\n",
    "import pandas as pd\n",
    "from sqlalchemy import create_engine\n",
    "from jeoparty_passwords import jeo_username\n",
    "from jeoparty_passwords import jeo_password"
   ]
  },
  {
   "cell_type": "code",
   "execution_count": 2,
   "metadata": {},
   "outputs": [],
   "source": [
    "# JSON file containing information for the 1000 winningest Jeopardy! Contestants pulled from\n",
    "# https://cluebase.readthedocs.io/en/latest/# , a Jeopardy! API with excellent documenation.\n",
    "contestant_file = \"../Resources/contestants1000.json\""
   ]
  },
  {
   "cell_type": "code",
   "execution_count": 3,
   "metadata": {},
   "outputs": [
    {
     "data": {
      "text/plain": [
       "0    {'id': 208, 'name': 'Ken Jennings', 'notes': '...\n",
       "1    {'id': 75, 'name': 'James Holzhauer', 'notes':...\n",
       "2    {'id': 204, 'name': 'David Madden', 'notes': '...\n",
       "Name: data, dtype: object"
      ]
     },
     "execution_count": 3,
     "metadata": {},
     "output_type": "execute_result"
    }
   ],
   "source": [
    "#Read JSON into the dataframe using pandas.read_json. Only the 'data' objects will be read in.\n",
    "player_df = pd.read_json(contestant_file, orient='values')['data']\n",
    "player_df.head(3)"
   ]
  },
  {
   "cell_type": "code",
   "execution_count": 4,
   "metadata": {},
   "outputs": [],
   "source": [
    "#pandas.json_normalize is used to 'flatten' the json in the dataframe.\n",
    "#'contestant_id' will be used as the index.\n",
    "player_df = pd.json_normalize(player_df).set_index('id') \n",
    "player_df.index.names = ['contestant_id']"
   ]
  },
  {
   "cell_type": "code",
   "execution_count": 5,
   "metadata": {
    "scrolled": true
   },
   "outputs": [
    {
     "data": {
      "text/html": [
       "<div>\n",
       "<style scoped>\n",
       "    .dataframe tbody tr th:only-of-type {\n",
       "        vertical-align: middle;\n",
       "    }\n",
       "\n",
       "    .dataframe tbody tr th {\n",
       "        vertical-align: top;\n",
       "    }\n",
       "\n",
       "    .dataframe thead th {\n",
       "        text-align: right;\n",
       "    }\n",
       "</style>\n",
       "<table border=\"1\" class=\"dataframe\">\n",
       "  <thead>\n",
       "    <tr style=\"text-align: right;\">\n",
       "      <th></th>\n",
       "      <th>name</th>\n",
       "      <th>notes</th>\n",
       "      <th>games_played</th>\n",
       "      <th>total_winnings</th>\n",
       "    </tr>\n",
       "    <tr>\n",
       "      <th>contestant_id</th>\n",
       "      <th></th>\n",
       "      <th></th>\n",
       "      <th></th>\n",
       "      <th></th>\n",
       "    </tr>\n",
       "  </thead>\n",
       "  <tbody>\n",
       "    <tr>\n",
       "      <th>208</th>\n",
       "      <td>Ken Jennings</td>\n",
       "      <td>a software engineer from Salt Lake City, Utah</td>\n",
       "      <td>94</td>\n",
       "      <td>2522700</td>\n",
       "    </tr>\n",
       "    <tr>\n",
       "      <th>75</th>\n",
       "      <td>James Holzhauer</td>\n",
       "      <td>a professional sports gambler from Las Vegas, ...</td>\n",
       "      <td>33</td>\n",
       "      <td>2464216</td>\n",
       "    </tr>\n",
       "    <tr>\n",
       "      <th>204</th>\n",
       "      <td>David Madden</td>\n",
       "      <td>a student originally from Ridgewood, New Jersey</td>\n",
       "      <td>29</td>\n",
       "      <td>432400</td>\n",
       "    </tr>\n",
       "  </tbody>\n",
       "</table>\n",
       "</div>"
      ],
      "text/plain": [
       "                          name  \\\n",
       "contestant_id                    \n",
       "208               Ken Jennings   \n",
       "75             James Holzhauer   \n",
       "204               David Madden   \n",
       "\n",
       "                                                           notes  \\\n",
       "contestant_id                                                      \n",
       "208                a software engineer from Salt Lake City, Utah   \n",
       "75             a professional sports gambler from Las Vegas, ...   \n",
       "204              a student originally from Ridgewood, New Jersey   \n",
       "\n",
       "               games_played  total_winnings  \n",
       "contestant_id                                \n",
       "208                      94         2522700  \n",
       "75                       33         2464216  \n",
       "204                      29          432400  "
      ]
     },
     "execution_count": 5,
     "metadata": {},
     "output_type": "execute_result"
    }
   ],
   "source": [
    "#Cleaned and stunningly beautiful dataframe.\n",
    "player_df.head(3)"
   ]
  },
  {
   "cell_type": "code",
   "execution_count": 6,
   "metadata": {},
   "outputs": [],
   "source": [
    "# Create Connection to 'jeoparty' postgres database\n",
    "# This connection string will use information from the 'jeoparty_passwords.py' file.\n",
    "connection_string = f\"{jeo_username}:{jeo_password}@localhost:5432/jeoparty\"\n",
    "engine = create_engine(f'postgresql://{connection_string}')"
   ]
  },
  {
   "cell_type": "code",
   "execution_count": 7,
   "metadata": {},
   "outputs": [
    {
     "data": {
      "text/plain": [
       "['categories', 'contestants']"
      ]
     },
     "execution_count": 7,
     "metadata": {},
     "output_type": "execute_result"
    }
   ],
   "source": [
    "# Confirm table name 'contestants' exists.\n",
    "engine.table_names()"
   ]
  },
  {
   "cell_type": "code",
   "execution_count": 8,
   "metadata": {},
   "outputs": [],
   "source": [
    "#Append data in dataframe to 'contestants' table\n",
    "player_df.to_sql(name='contestants', con=engine, if_exists='append', index=True)"
   ]
  },
  {
   "cell_type": "code",
   "execution_count": null,
   "metadata": {},
   "outputs": [],
   "source": []
  }
 ],
 "metadata": {
  "kernelspec": {
   "display_name": "PythonData",
   "language": "python",
   "name": "pythondata"
  },
  "language_info": {
   "codemirror_mode": {
    "name": "ipython",
    "version": 3
   },
   "file_extension": ".py",
   "mimetype": "text/x-python",
   "name": "python",
   "nbconvert_exporter": "python",
   "pygments_lexer": "ipython3",
   "version": "3.10.8"
  }
 },
 "nbformat": 4,
 "nbformat_minor": 2
}
