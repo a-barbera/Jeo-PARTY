{
 "cells": [
  {
   "cell_type": "markdown",
   "metadata": {},
   "source": [
    "# Create a postgres db named 'jeoparty'\n",
    "#### run sql script found in the same folder as this notebook\n",
    "#### no capital letters, postgress doesn't like that"
   ]
  },
  {
   "cell_type": "code",
   "execution_count": 2,
   "metadata": {},
   "outputs": [
    {
     "name": "stdout",
     "output_type": "stream",
     "text": [
      "Collecting psycopg2-binary\n",
      "  Downloading psycopg2_binary-2.9.5-cp37-cp37m-macosx_10_15_x86_64.macosx_10_9_intel.macosx_10_9_x86_64.macosx_10_10_intel.macosx_10_10_x86_64.whl (2.2 MB)\n",
      "\u001b[K     |████████████████████████████████| 2.2 MB 2.6 MB/s eta 0:00:01\n",
      "\u001b[?25hInstalling collected packages: psycopg2-binary\n",
      "Successfully installed psycopg2-binary-2.9.5\n",
      "Note: you may need to restart the kernel to use updated packages.\n"
     ]
    }
   ],
   "source": [
    "pip install psycopg2-binary"
   ]
  },
  {
   "cell_type": "code",
   "execution_count": 3,
   "metadata": {
    "scrolled": true
   },
   "outputs": [],
   "source": [
    "import pandas as pd\n",
    "from sqlalchemy import create_engine"
   ]
  },
  {
   "cell_type": "code",
   "execution_count": 4,
   "metadata": {},
   "outputs": [],
   "source": [
    "contestant_file = \"../Resources/contestants1000.json\""
   ]
  },
  {
   "cell_type": "code",
   "execution_count": 5,
   "metadata": {},
   "outputs": [
    {
     "data": {
      "text/plain": [
       "'../Resources/contestants1000.json'"
      ]
     },
     "execution_count": 5,
     "metadata": {},
     "output_type": "execute_result"
    }
   ],
   "source": [
    "contestant_file"
   ]
  },
  {
   "cell_type": "code",
   "execution_count": 6,
   "metadata": {},
   "outputs": [],
   "source": [
    "player_df = pd.read_json(contestant_file, orient='values')['data']"
   ]
  },
  {
   "cell_type": "code",
   "execution_count": 7,
   "metadata": {},
   "outputs": [],
   "source": [
    "player_df = pd.json_normalize(player_df).set_index('id') \n",
    "player_df.index.names = ['contestant_id']"
   ]
  },
  {
   "cell_type": "code",
   "execution_count": 8,
   "metadata": {
    "scrolled": true
   },
   "outputs": [],
   "source": [
    "player_df.index.names = ['contestant_id']"
   ]
  },
  {
   "cell_type": "code",
   "execution_count": 9,
   "metadata": {
    "scrolled": true
   },
   "outputs": [
    {
     "data": {
      "text/html": [
       "<div>\n",
       "<style scoped>\n",
       "    .dataframe tbody tr th:only-of-type {\n",
       "        vertical-align: middle;\n",
       "    }\n",
       "\n",
       "    .dataframe tbody tr th {\n",
       "        vertical-align: top;\n",
       "    }\n",
       "\n",
       "    .dataframe thead th {\n",
       "        text-align: right;\n",
       "    }\n",
       "</style>\n",
       "<table border=\"1\" class=\"dataframe\">\n",
       "  <thead>\n",
       "    <tr style=\"text-align: right;\">\n",
       "      <th></th>\n",
       "      <th>name</th>\n",
       "      <th>notes</th>\n",
       "      <th>games_played</th>\n",
       "      <th>total_winnings</th>\n",
       "    </tr>\n",
       "    <tr>\n",
       "      <th>contestant_id</th>\n",
       "      <th></th>\n",
       "      <th></th>\n",
       "      <th></th>\n",
       "      <th></th>\n",
       "    </tr>\n",
       "  </thead>\n",
       "  <tbody>\n",
       "    <tr>\n",
       "      <th>208</th>\n",
       "      <td>Ken Jennings</td>\n",
       "      <td>a software engineer from Salt Lake City, Utah</td>\n",
       "      <td>94</td>\n",
       "      <td>2522700</td>\n",
       "    </tr>\n",
       "    <tr>\n",
       "      <th>75</th>\n",
       "      <td>James Holzhauer</td>\n",
       "      <td>a professional sports gambler from Las Vegas, ...</td>\n",
       "      <td>33</td>\n",
       "      <td>2464216</td>\n",
       "    </tr>\n",
       "    <tr>\n",
       "      <th>204</th>\n",
       "      <td>David Madden</td>\n",
       "      <td>a student originally from Ridgewood, New Jersey</td>\n",
       "      <td>29</td>\n",
       "      <td>432400</td>\n",
       "    </tr>\n",
       "    <tr>\n",
       "      <th>220</th>\n",
       "      <td>Julia Collins</td>\n",
       "      <td>a supply chain professional from Kenilworth, I...</td>\n",
       "      <td>32</td>\n",
       "      <td>429100</td>\n",
       "    </tr>\n",
       "    <tr>\n",
       "      <th>209</th>\n",
       "      <td>Matt Jackson</td>\n",
       "      <td>a paralegal from Washington, D.C.</td>\n",
       "      <td>27</td>\n",
       "      <td>413612</td>\n",
       "    </tr>\n",
       "    <tr>\n",
       "      <th>...</th>\n",
       "      <td>...</td>\n",
       "      <td>...</td>\n",
       "      <td>...</td>\n",
       "      <td>...</td>\n",
       "    </tr>\n",
       "    <tr>\n",
       "      <th>8843</th>\n",
       "      <td>J.J. Todor</td>\n",
       "      <td>a law student from Pataskala, Ohio</td>\n",
       "      <td>9</td>\n",
       "      <td>31021</td>\n",
       "    </tr>\n",
       "    <tr>\n",
       "      <th>4192</th>\n",
       "      <td>Neel Varde</td>\n",
       "      <td>a food scientist from St. Charles, Illinois</td>\n",
       "      <td>2</td>\n",
       "      <td>31001</td>\n",
       "    </tr>\n",
       "    <tr>\n",
       "      <th>1496</th>\n",
       "      <td>Erin Bowers</td>\n",
       "      <td>a patent examiner from Washington, D.C.</td>\n",
       "      <td>2</td>\n",
       "      <td>31001</td>\n",
       "    </tr>\n",
       "    <tr>\n",
       "      <th>3210</th>\n",
       "      <td>Sean Hansen</td>\n",
       "      <td>an assistant professor of management informati...</td>\n",
       "      <td>2</td>\n",
       "      <td>31001</td>\n",
       "    </tr>\n",
       "    <tr>\n",
       "      <th>3757</th>\n",
       "      <td>Genaro Lopez</td>\n",
       "      <td>a contract administrator from Portland, Oregon</td>\n",
       "      <td>2</td>\n",
       "      <td>31001</td>\n",
       "    </tr>\n",
       "  </tbody>\n",
       "</table>\n",
       "<p>1000 rows × 4 columns</p>\n",
       "</div>"
      ],
      "text/plain": [
       "                          name  \\\n",
       "contestant_id                    \n",
       "208               Ken Jennings   \n",
       "75             James Holzhauer   \n",
       "204               David Madden   \n",
       "220              Julia Collins   \n",
       "209               Matt Jackson   \n",
       "...                        ...   \n",
       "8843                J.J. Todor   \n",
       "4192                Neel Varde   \n",
       "1496               Erin Bowers   \n",
       "3210               Sean Hansen   \n",
       "3757              Genaro Lopez   \n",
       "\n",
       "                                                           notes  \\\n",
       "contestant_id                                                      \n",
       "208                a software engineer from Salt Lake City, Utah   \n",
       "75             a professional sports gambler from Las Vegas, ...   \n",
       "204              a student originally from Ridgewood, New Jersey   \n",
       "220            a supply chain professional from Kenilworth, I...   \n",
       "209                            a paralegal from Washington, D.C.   \n",
       "...                                                          ...   \n",
       "8843                          a law student from Pataskala, Ohio   \n",
       "4192                 a food scientist from St. Charles, Illinois   \n",
       "1496                     a patent examiner from Washington, D.C.   \n",
       "3210           an assistant professor of management informati...   \n",
       "3757              a contract administrator from Portland, Oregon   \n",
       "\n",
       "               games_played  total_winnings  \n",
       "contestant_id                                \n",
       "208                      94         2522700  \n",
       "75                       33         2464216  \n",
       "204                      29          432400  \n",
       "220                      32          429100  \n",
       "209                      27          413612  \n",
       "...                     ...             ...  \n",
       "8843                      9           31021  \n",
       "4192                      2           31001  \n",
       "1496                      2           31001  \n",
       "3210                      2           31001  \n",
       "3757                      2           31001  \n",
       "\n",
       "[1000 rows x 4 columns]"
      ]
     },
     "execution_count": 9,
     "metadata": {},
     "output_type": "execute_result"
    }
   ],
   "source": [
    "player_df"
   ]
  },
  {
   "cell_type": "code",
   "execution_count": 23,
   "metadata": {},
   "outputs": [],
   "source": [
    "connection_string = \"postgres:_____!@localhost:5432/jeoparty\"\n",
    "engine = create_engine(f'postgresql://{connection_string}')"
   ]
  },
  {
   "cell_type": "code",
   "execution_count": 24,
   "metadata": {},
   "outputs": [
    {
     "name": "stderr",
     "output_type": "stream",
     "text": [
      "/Users/tobiadel/opt/anaconda3/envs/PythonData/lib/python3.7/site-packages/ipykernel_launcher.py:2: SADeprecationWarning: The Engine.table_names() method is deprecated and will be removed in a future release.  Please refer to Inspector.get_table_names(). (deprecated since: 1.4)\n",
      "  \n"
     ]
    },
    {
     "data": {
      "text/plain": [
       "['contestants']"
      ]
     },
     "execution_count": 24,
     "metadata": {},
     "output_type": "execute_result"
    }
   ],
   "source": [
    "# Confirm tables\n",
    "engine.table_names()"
   ]
  },
  {
   "cell_type": "code",
   "execution_count": 26,
   "metadata": {},
   "outputs": [],
   "source": [
    "player_df.to_sql(name='contestants', con=engine, if_exists='append', index=True)"
   ]
  },
  {
   "cell_type": "code",
   "execution_count": null,
   "metadata": {},
   "outputs": [],
   "source": []
  }
 ],
 "metadata": {
  "kernelspec": {
   "display_name": "PythonData",
   "language": "python",
   "name": "pythondata"
  },
  "language_info": {
   "codemirror_mode": {
    "name": "ipython",
    "version": 3
   },
   "file_extension": ".py",
   "mimetype": "text/x-python",
   "name": "python",
   "nbconvert_exporter": "python",
   "pygments_lexer": "ipython3",
   "version": "3.7.7 (default, May  6 2020, 11:45:54) [MSC v.1916 64 bit (AMD64)]"
  }
 },
 "nbformat": 4,
 "nbformat_minor": 2
}
