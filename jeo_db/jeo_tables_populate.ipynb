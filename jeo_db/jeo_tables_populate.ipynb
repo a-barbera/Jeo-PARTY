{
 "cells": [
  {
   "cell_type": "raw",
   "metadata": {},
   "source": []
  },
  {
   "cell_type": "markdown",
   "metadata": {},
   "source": [
    "# READ THIS BEFORE RUNNING THIS NOTEBOOK.\n",
    "## Create a Postgres DB Named 'jeoparty'\n",
    "1. Use pgAdmin to create a postgres database named 'jeoparty'.\n",
    "2. Run the sql script found in 'jeo_tables.sql' in the 'jeoparty' query tool.\n",
    " - This file is found in the same folder as this notebook. \n",
    " - This will create tables to be populated by data pulled from various sources.\n",
    " - No capital letters will be used in the naming of the tables, table columns or dataframe columns\n",
    " - postgres has issues with capital letters\n",
    "3. Add your pgAdmin username and password to the 'jeoparty_passwords.py' file before running any cells in this workbook.\n",
    " - 'jeoparty_passwords.py' is also found in the same folder as this notebook.\n",
    " - These values have been defaulted to 'postgres' for both variables in the 'jeoparty_passwords.py' file in the repository"
   ]
  },
  {
   "cell_type": "markdown",
   "metadata": {},
   "source": [
    "# Pulling Contestants and Questions"
   ]
  },
  {
   "cell_type": "code",
   "execution_count": 1,
   "metadata": {},
   "outputs": [],
   "source": [
    "#Dependencies\n",
    "import pandas as pd\n",
    "import requests\n",
    "import json\n",
    "from sqlalchemy import create_engine\n",
    "from jeoparty_passwords import jeo_username\n",
    "from jeoparty_passwords import jeo_password"
   ]
  },
  {
   "cell_type": "code",
   "execution_count": 2,
   "metadata": {},
   "outputs": [],
   "source": [
    "# JSON file containing information for the 1000 winningest Jeopardy! Contestants pulled from\n",
    "# https://cluebase.readthedocs.io/en/latest/# , a Jeopardy! API with excellent documenation.\n",
    "contestant_file = \"../Resources/contestants1000.json\"\n",
    "# JSON file containing information for Jeopardy! questions from jService.\n",
    "question_file = \"../static/js/cleanedJeoQs.json\""
   ]
  },
  {
   "cell_type": "code",
   "execution_count": 3,
   "metadata": {},
   "outputs": [
    {
     "data": {
      "text/plain": [
       "0    {'id': 208, 'name': 'Ken Jennings', 'notes': '...\n",
       "1    {'id': 75, 'name': 'James Holzhauer', 'notes':...\n",
       "2    {'id': 204, 'name': 'David Madden', 'notes': '...\n",
       "Name: data, dtype: object"
      ]
     },
     "execution_count": 3,
     "metadata": {},
     "output_type": "execute_result"
    }
   ],
   "source": [
    "#Read 'player' JSON into the dataframe using pandas.read_json. Only the 'data' objects will be read in.\n",
    "player_df = pd.read_json(contestant_file, orient='values')['data']\n",
    "player_df.head(3)"
   ]
  },
  {
   "cell_type": "code",
   "execution_count": 4,
   "metadata": {},
   "outputs": [],
   "source": [
    "#Read 'question' JSON into the dataframe using pandas.read_json.\n",
    "question_df = pd.read_json(question_file, orient='values')"
   ]
  },
  {
   "cell_type": "code",
   "execution_count": 5,
   "metadata": {},
   "outputs": [],
   "source": [
    "#pandas.json_normalize is used to 'flatten' the json in the 'player_df' dataframe.\n",
    "#'contestant_id' will be used as the index.\n",
    "player_df = pd.json_normalize(player_df).set_index('id') \n",
    "player_df.index.names = ['contestant_id']"
   ]
  },
  {
   "cell_type": "code",
   "execution_count": 6,
   "metadata": {
    "scrolled": true
   },
   "outputs": [
    {
     "data": {
      "text/html": [
       "<div>\n",
       "<style scoped>\n",
       "    .dataframe tbody tr th:only-of-type {\n",
       "        vertical-align: middle;\n",
       "    }\n",
       "\n",
       "    .dataframe tbody tr th {\n",
       "        vertical-align: top;\n",
       "    }\n",
       "\n",
       "    .dataframe thead th {\n",
       "        text-align: right;\n",
       "    }\n",
       "</style>\n",
       "<table border=\"1\" class=\"dataframe\">\n",
       "  <thead>\n",
       "    <tr style=\"text-align: right;\">\n",
       "      <th></th>\n",
       "      <th>name</th>\n",
       "      <th>notes</th>\n",
       "      <th>games_played</th>\n",
       "      <th>total_winnings</th>\n",
       "    </tr>\n",
       "    <tr>\n",
       "      <th>contestant_id</th>\n",
       "      <th></th>\n",
       "      <th></th>\n",
       "      <th></th>\n",
       "      <th></th>\n",
       "    </tr>\n",
       "  </thead>\n",
       "  <tbody>\n",
       "    <tr>\n",
       "      <th>208</th>\n",
       "      <td>Ken Jennings</td>\n",
       "      <td>a software engineer from Salt Lake City, Utah</td>\n",
       "      <td>94</td>\n",
       "      <td>2522700</td>\n",
       "    </tr>\n",
       "    <tr>\n",
       "      <th>75</th>\n",
       "      <td>James Holzhauer</td>\n",
       "      <td>a professional sports gambler from Las Vegas, ...</td>\n",
       "      <td>33</td>\n",
       "      <td>2464216</td>\n",
       "    </tr>\n",
       "    <tr>\n",
       "      <th>204</th>\n",
       "      <td>David Madden</td>\n",
       "      <td>a student originally from Ridgewood, New Jersey</td>\n",
       "      <td>29</td>\n",
       "      <td>432400</td>\n",
       "    </tr>\n",
       "  </tbody>\n",
       "</table>\n",
       "</div>"
      ],
      "text/plain": [
       "                          name  \\\n",
       "contestant_id                    \n",
       "208               Ken Jennings   \n",
       "75             James Holzhauer   \n",
       "204               David Madden   \n",
       "\n",
       "                                                           notes  \\\n",
       "contestant_id                                                      \n",
       "208                a software engineer from Salt Lake City, Utah   \n",
       "75             a professional sports gambler from Las Vegas, ...   \n",
       "204              a student originally from Ridgewood, New Jersey   \n",
       "\n",
       "               games_played  total_winnings  \n",
       "contestant_id                                \n",
       "208                      94         2522700  \n",
       "75                       33         2464216  \n",
       "204                      29          432400  "
      ]
     },
     "execution_count": 6,
     "metadata": {},
     "output_type": "execute_result"
    }
   ],
   "source": [
    "#Players Dataframe.\n",
    "player_df.head(3)"
   ]
  },
  {
   "cell_type": "code",
   "execution_count": 7,
   "metadata": {},
   "outputs": [
    {
     "data": {
      "text/html": [
       "<div>\n",
       "<style scoped>\n",
       "    .dataframe tbody tr th:only-of-type {\n",
       "        vertical-align: middle;\n",
       "    }\n",
       "\n",
       "    .dataframe tbody tr th {\n",
       "        vertical-align: top;\n",
       "    }\n",
       "\n",
       "    .dataframe thead th {\n",
       "        text-align: right;\n",
       "    }\n",
       "</style>\n",
       "<table border=\"1\" class=\"dataframe\">\n",
       "  <thead>\n",
       "    <tr style=\"text-align: right;\">\n",
       "      <th></th>\n",
       "      <th>show_number</th>\n",
       "      <th>air_date</th>\n",
       "      <th>round</th>\n",
       "      <th>category</th>\n",
       "      <th>value</th>\n",
       "      <th>question</th>\n",
       "      <th>answer</th>\n",
       "    </tr>\n",
       "    <tr>\n",
       "      <th>question_id</th>\n",
       "      <th></th>\n",
       "      <th></th>\n",
       "      <th></th>\n",
       "      <th></th>\n",
       "      <th></th>\n",
       "      <th></th>\n",
       "      <th></th>\n",
       "    </tr>\n",
       "  </thead>\n",
       "  <tbody>\n",
       "    <tr>\n",
       "      <th>0</th>\n",
       "      <td>4576</td>\n",
       "      <td>6/28/2004</td>\n",
       "      <td>Double Jeopardy!</td>\n",
       "      <td>BEFORE &amp; AFTER</td>\n",
       "      <td>400</td>\n",
       "      <td>1980 scarefest in which mom &amp; daughter switch ...</td>\n",
       "      <td>Freaky Friday the 13th</td>\n",
       "    </tr>\n",
       "    <tr>\n",
       "      <th>1</th>\n",
       "      <td>4576</td>\n",
       "      <td>6/28/2004</td>\n",
       "      <td>Double Jeopardy!</td>\n",
       "      <td>BEFORE &amp; AFTER</td>\n",
       "      <td>800</td>\n",
       "      <td>Leif Ericson's dad who was a huge star with lo...</td>\n",
       "      <td>Erik the Red Giant</td>\n",
       "    </tr>\n",
       "    <tr>\n",
       "      <th>2</th>\n",
       "      <td>4576</td>\n",
       "      <td>6/28/2004</td>\n",
       "      <td>Double Jeopardy!</td>\n",
       "      <td>BEFORE &amp; AFTER</td>\n",
       "      <td>1200</td>\n",
       "      <td>Fictional girl sleuth who's the granddaughter ...</td>\n",
       "      <td>Nancy Drew Barrymore</td>\n",
       "    </tr>\n",
       "  </tbody>\n",
       "</table>\n",
       "</div>"
      ],
      "text/plain": [
       "             show_number   air_date             round        category value  \\\n",
       "question_id                                                                   \n",
       "0                   4576  6/28/2004  Double Jeopardy!  BEFORE & AFTER   400   \n",
       "1                   4576  6/28/2004  Double Jeopardy!  BEFORE & AFTER   800   \n",
       "2                   4576  6/28/2004  Double Jeopardy!  BEFORE & AFTER  1200   \n",
       "\n",
       "                                                      question  \\\n",
       "question_id                                                      \n",
       "0            1980 scarefest in which mom & daughter switch ...   \n",
       "1            Leif Ericson's dad who was a huge star with lo...   \n",
       "2            Fictional girl sleuth who's the granddaughter ...   \n",
       "\n",
       "                             answer  \n",
       "question_id                          \n",
       "0            Freaky Friday the 13th  \n",
       "1                Erik the Red Giant  \n",
       "2              Nancy Drew Barrymore  "
      ]
     },
     "execution_count": 7,
     "metadata": {},
     "output_type": "execute_result"
    }
   ],
   "source": [
    "#Read 'question' JSON into the dataframe using pandas.read_json.\n",
    "question_df = pd.read_json(question_file, orient='values')\n",
    "question_df.index.rename(\"question_id\", inplace = True)\n",
    "question_df.head(3)"
   ]
  },
  {
   "cell_type": "markdown",
   "metadata": {},
   "source": [
    "# Pulling Categories"
   ]
  },
  {
   "cell_type": "code",
   "execution_count": 8,
   "metadata": {},
   "outputs": [],
   "source": [
    "#Pulling Categories\n",
    "url = \"http://cluebase.lukelav.in/categories\"\n",
    "response = requests.get(url)"
   ]
  },
  {
   "cell_type": "code",
   "execution_count": 9,
   "metadata": {},
   "outputs": [
    {
     "name": "stdout",
     "output_type": "stream",
     "text": [
      "{\n",
      "    \"data\": [\n",
      "        {\n",
      "            \"category\": \"SCIENCE\",\n",
      "            \"clue_count\": 911\n",
      "        },\n",
      "        {\n",
      "            \"category\": \"LITERATURE\",\n",
      "            \"clue_count\": 812\n",
      "        },\n",
      "        {\n",
      "            \"category\": \"AMERICAN HISTORY\",\n",
      "            \"clue_count\": 778\n",
      "        },\n",
      "        {\n",
      "            \"category\": \"POTPOURRI\",\n",
      "            \"clue_count\": 744\n",
      "        },\n",
      "        {\n",
      "            \"category\": \"HISTORY\",\n",
      "            \"clue_count\": 723\n",
      "        },\n",
      "        {\n",
      "            \"category\": \"SPORTS\",\n",
      "            \"clue_count\": 693\n",
      "        },\n",
      "        {\n",
      "            \"category\": \"BEFORE & AFTER\",\n",
      "            \"clue_count\": 677\n",
      "        },\n",
      "        {\n",
      "            \"category\": \"WORLD HISTORY\",\n",
      "            \"clue_count\": 649\n",
      "        },\n",
      "        {\n",
      "            \"category\": \"WORD ORIGINS\",\n",
      "            \"clue_count\": 631\n",
      "        },\n",
      "        {\n",
      "            \"category\": \"WORLD GEOGRAPHY\",\n",
      "            \"clue_count\": 612\n",
      "        },\n",
      "        {\n",
      "            \"category\": \"TRANSPORTATION\",\n",
      "            \"clue_count\": 569\n",
      "        },\n",
      "        {\n",
      "            \"category\": \"ART\",\n",
      "            \"clue_count\": 566\n",
      "        },\n",
      "        {\n",
      "            \"category\": \"U.S. CITIES\",\n",
      "            \"clue_count\": 564\n",
      "        },\n",
      "        {\n",
      "            \"category\": \"BUSINESS & INDUSTRY\",\n",
      "            \"clue_count\": 554\n",
      "        },\n",
      "        {\n",
      "            \"category\": \"COLLEGES & UNIVERSITIES\",\n",
      "            \"clue_count\": 542\n",
      "        },\n",
      "        {\n",
      "            \"category\": \"RELIGION\",\n",
      "            \"clue_count\": 534\n",
      "        },\n",
      "        {\n",
      "            \"category\": \"ANIMALS\",\n",
      "            \"clue_count\": 513\n",
      "        },\n",
      "        {\n",
      "            \"category\": \"BODIES OF WATER\",\n",
      "            \"clue_count\": 500\n",
      "        },\n",
      "        {\n",
      "            \"category\": \"BOOKS & AUTHORS\",\n",
      "            \"clue_count\": 499\n",
      "        },\n",
      "        {\n",
      "            \"category\": \"U.S. GEOGRAPHY\",\n",
      "            \"clue_count\": 491\n",
      "        },\n",
      "        {\n",
      "            \"category\": \"WORLD CAPITALS\",\n",
      "            \"clue_count\": 483\n",
      "        },\n",
      "        {\n",
      "            \"category\": \"U.S. HISTORY\",\n",
      "            \"clue_count\": 482\n",
      "        },\n",
      "        {\n",
      "            \"category\": \"RHYME TIME\",\n",
      "            \"clue_count\": 471\n",
      "        },\n",
      "        {\n",
      "            \"category\": \"ISLANDS\",\n",
      "            \"clue_count\": 467\n",
      "        },\n",
      "        {\n",
      "            \"category\": \"LANGUAGES\",\n",
      "            \"clue_count\": 463\n",
      "        },\n",
      "        {\n",
      "            \"category\": \"AUTHORS\",\n",
      "            \"clue_count\": 462\n",
      "        },\n",
      "        {\n",
      "            \"category\": \"FOOD\",\n",
      "            \"clue_count\": 457\n",
      "        },\n",
      "        {\n",
      "            \"category\": \"HODGEPODGE\",\n",
      "            \"clue_count\": 450\n",
      "        },\n",
      "        {\n",
      "            \"category\": \"THE BIBLE\",\n",
      "            \"clue_count\": 446\n",
      "        },\n",
      "        {\n",
      "            \"category\": \"SHAKESPEARE\",\n",
      "            \"clue_count\": 441\n",
      "        },\n",
      "        {\n",
      "            \"category\": \"OPERA\",\n",
      "            \"clue_count\": 436\n",
      "        },\n",
      "        {\n",
      "            \"category\": \"MYTHOLOGY\",\n",
      "            \"clue_count\": 430\n",
      "        },\n",
      "        {\n",
      "            \"category\": \"PEOPLE\",\n",
      "            \"clue_count\": 428\n",
      "        },\n",
      "        {\n",
      "            \"category\": \"CLASSICAL MUSIC\",\n",
      "            \"clue_count\": 427\n",
      "        },\n",
      "        {\n",
      "            \"category\": \"STATE CAPITALS\",\n",
      "            \"clue_count\": 420\n",
      "        },\n",
      "        {\n",
      "            \"category\": \"GEOGRAPHY\",\n",
      "            \"clue_count\": 419\n",
      "        },\n",
      "        {\n",
      "            \"category\": \"BALLET\",\n",
      "            \"clue_count\": 415\n",
      "        },\n",
      "        {\n",
      "            \"category\": \"TELEVISION\",\n",
      "            \"clue_count\": 411\n",
      "        },\n",
      "        {\n",
      "            \"category\": \"ART & ARTISTS\",\n",
      "            \"clue_count\": 406\n",
      "        },\n",
      "        {\n",
      "            \"category\": \"MUSEUMS\",\n",
      "            \"clue_count\": 404\n",
      "        },\n",
      "        {\n",
      "            \"category\": \"NONFICTION\",\n",
      "            \"clue_count\": 402\n",
      "        },\n",
      "        {\n",
      "            \"category\": \"MUSIC\",\n",
      "            \"clue_count\": 391\n",
      "        },\n",
      "        {\n",
      "            \"category\": \"BIOLOGY\",\n",
      "            \"clue_count\": 384\n",
      "        },\n",
      "        {\n",
      "            \"category\": \"FOOD & DRINK\",\n",
      "            \"clue_count\": 370\n",
      "        },\n",
      "        {\n",
      "            \"category\": \"THE CIVIL WAR\",\n",
      "            \"clue_count\": 367\n",
      "        },\n",
      "        {\n",
      "            \"category\": \"COMPOSERS\",\n",
      "            \"clue_count\": 364\n",
      "        },\n",
      "        {\n",
      "            \"category\": \"THE MOVIES\",\n",
      "            \"clue_count\": 363\n",
      "        },\n",
      "        {\n",
      "            \"category\": \"COMMON BONDS\",\n",
      "            \"clue_count\": 362\n",
      "        },\n",
      "        {\n",
      "            \"category\": \"FICTIONAL CHARACTERS\",\n",
      "            \"clue_count\": 361\n",
      "        },\n",
      "        {\n",
      "            \"category\": \"WEIGHTS & MEASURES\",\n",
      "            \"clue_count\": 361\n",
      "        }\n",
      "    ],\n",
      "    \"status\": \"success\"\n",
      "}\n"
     ]
    }
   ],
   "source": [
    "# Storing the JSON response within a variable\n",
    "data = response.json()\n",
    "# Use json.dumps to print the json\n",
    "print(json.dumps(data, indent=4, sort_keys=True))"
   ]
  },
  {
   "cell_type": "code",
   "execution_count": 10,
   "metadata": {
    "scrolled": true
   },
   "outputs": [
    {
     "data": {
      "text/plain": [
       "{'category': 'SCIENCE', 'clue_count': 911}"
      ]
     },
     "execution_count": 10,
     "metadata": {},
     "output_type": "execute_result"
    }
   ],
   "source": [
    "#Parsing to make sure I'm going into the json file correctly\n",
    "data['data'][0]"
   ]
  },
  {
   "cell_type": "code",
   "execution_count": 11,
   "metadata": {},
   "outputs": [
    {
     "data": {
      "text/html": [
       "<div>\n",
       "<style scoped>\n",
       "    .dataframe tbody tr th:only-of-type {\n",
       "        vertical-align: middle;\n",
       "    }\n",
       "\n",
       "    .dataframe tbody tr th {\n",
       "        vertical-align: top;\n",
       "    }\n",
       "\n",
       "    .dataframe thead th {\n",
       "        text-align: right;\n",
       "    }\n",
       "</style>\n",
       "<table border=\"1\" class=\"dataframe\">\n",
       "  <thead>\n",
       "    <tr style=\"text-align: right;\">\n",
       "      <th></th>\n",
       "      <th>category</th>\n",
       "      <th>clue_count</th>\n",
       "    </tr>\n",
       "  </thead>\n",
       "  <tbody>\n",
       "    <tr>\n",
       "      <th>0</th>\n",
       "      <td>SCIENCE</td>\n",
       "      <td>911</td>\n",
       "    </tr>\n",
       "    <tr>\n",
       "      <th>1</th>\n",
       "      <td>LITERATURE</td>\n",
       "      <td>812</td>\n",
       "    </tr>\n",
       "    <tr>\n",
       "      <th>2</th>\n",
       "      <td>AMERICAN HISTORY</td>\n",
       "      <td>778</td>\n",
       "    </tr>\n",
       "    <tr>\n",
       "      <th>3</th>\n",
       "      <td>POTPOURRI</td>\n",
       "      <td>744</td>\n",
       "    </tr>\n",
       "    <tr>\n",
       "      <th>4</th>\n",
       "      <td>HISTORY</td>\n",
       "      <td>723</td>\n",
       "    </tr>\n",
       "    <tr>\n",
       "      <th>5</th>\n",
       "      <td>SPORTS</td>\n",
       "      <td>693</td>\n",
       "    </tr>\n",
       "    <tr>\n",
       "      <th>6</th>\n",
       "      <td>BEFORE &amp; AFTER</td>\n",
       "      <td>677</td>\n",
       "    </tr>\n",
       "    <tr>\n",
       "      <th>7</th>\n",
       "      <td>WORLD HISTORY</td>\n",
       "      <td>649</td>\n",
       "    </tr>\n",
       "    <tr>\n",
       "      <th>8</th>\n",
       "      <td>WORD ORIGINS</td>\n",
       "      <td>631</td>\n",
       "    </tr>\n",
       "    <tr>\n",
       "      <th>9</th>\n",
       "      <td>WORLD GEOGRAPHY</td>\n",
       "      <td>612</td>\n",
       "    </tr>\n",
       "  </tbody>\n",
       "</table>\n",
       "</div>"
      ],
      "text/plain": [
       "           category  clue_count\n",
       "0           SCIENCE         911\n",
       "1        LITERATURE         812\n",
       "2  AMERICAN HISTORY         778\n",
       "3         POTPOURRI         744\n",
       "4           HISTORY         723\n",
       "5            SPORTS         693\n",
       "6    BEFORE & AFTER         677\n",
       "7     WORLD HISTORY         649\n",
       "8      WORD ORIGINS         631\n",
       "9   WORLD GEOGRAPHY         612"
      ]
     },
     "execution_count": 11,
     "metadata": {},
     "output_type": "execute_result"
    }
   ],
   "source": [
    "#Creating a dataframe out of the json file\n",
    "df = pd.DataFrame(data['data'])\n",
    "df.head(10)"
   ]
  },
  {
   "cell_type": "markdown",
   "metadata": {},
   "source": [
    "# Connection to Database and Populating Tables"
   ]
  },
  {
   "cell_type": "code",
   "execution_count": 12,
   "metadata": {},
   "outputs": [],
   "source": [
    "# Create Connection to 'jeoparty' postgres database\n",
    "# This connection string will use information from the 'jeoparty_passwords.py' file.\n",
    "connection_string = f\"{jeo_username}:{jeo_password}@localhost:5432/jeoparty\"\n",
    "engine = create_engine(f'postgresql://{connection_string}')"
   ]
  },
  {
   "cell_type": "code",
   "execution_count": 13,
   "metadata": {},
   "outputs": [
    {
     "name": "stderr",
     "output_type": "stream",
     "text": [
      "/var/folders/_v/q5hgp4y91q79zfpg0c6yckfm0000gn/T/ipykernel_2411/1246274019.py:2: SADeprecationWarning: The Engine.table_names() method is deprecated and will be removed in a future release.  Please refer to Inspector.get_table_names(). (deprecated since: 1.4)\n",
      "  engine.table_names()\n"
     ]
    },
    {
     "data": {
      "text/plain": [
       "['contestants', 'categories', 'questions']"
      ]
     },
     "execution_count": 13,
     "metadata": {},
     "output_type": "execute_result"
    }
   ],
   "source": [
    "# Confirm table name 'contestants' exists.\n",
    "engine.table_names()"
   ]
  },
  {
   "cell_type": "code",
   "execution_count": 14,
   "metadata": {},
   "outputs": [
    {
     "data": {
      "text/plain": [
       "50"
      ]
     },
     "execution_count": 14,
     "metadata": {},
     "output_type": "execute_result"
    }
   ],
   "source": [
    "#Append data in 'player_df' dataframe to 'contestants' table\n",
    "player_df.to_sql(name='contestants', con=engine, if_exists='append', index=True)\n",
    "#Append data in 'question_df' dataframe to 'questions' table\n",
    "question_df.to_sql(name='questions', con=engine, if_exists='append', index=True)\n",
    "#Append data in 'df' dataframe to 'categories' table\n",
    "df.to_sql(name='categories', con=engine, if_exists='append', index=True)"
   ]
  },
  {
   "cell_type": "code",
   "execution_count": null,
   "metadata": {},
   "outputs": [],
   "source": []
  }
 ],
 "metadata": {
  "kernelspec": {
   "display_name": "PythonData",
   "language": "python",
   "name": "pythondata"
  },
  "language_info": {
   "codemirror_mode": {
    "name": "ipython",
    "version": 3
   },
   "file_extension": ".py",
   "mimetype": "text/x-python",
   "name": "python",
   "nbconvert_exporter": "python",
   "pygments_lexer": "ipython3",
   "version": "3.10.8"
  }
 },
 "nbformat": 4,
 "nbformat_minor": 2
}
