{
 "cells": [
  {
   "cell_type": "markdown",
   "metadata": {},
   "source": [
    "# READ THIS BEFORE RUNNING THIS NOTEBOOK.\n",
    "## Create a Postgres DB Named 'jeoparty'\n",
    "1. Use pgAdmin to create a postgres database named 'jeoparty'.\n",
    "2. Run the sql script found in 'jeo_tables.sql' in the 'jeoparty' query tool.\n",
    " - This file is found in the same folder as this notebook. \n",
    " - This will create the table to be populated by data pulled from the json file.\n",
    " - No capital letters will be used in the naming of the table, table columns or dataframe columns\n",
    " - postgres has issues with capital letters\n",
    "3. Add your pgAdmin username and password to the 'jeoparty_passwords.py' file before running any cells in this workbook.\n",
    " - This file is also found in the same folder as this notebook.\n",
    " - These values have been defaulted to 'postgres' for both values in the 'jeoparty_passwords.py' file in the repository"
   ]
  },
  {
   "cell_type": "code",
   "execution_count": 1,
   "metadata": {},
   "outputs": [],
   "source": [
    "#Dependencies\n",
    "import pandas as pd\n",
    "from sqlalchemy import create_engine\n",
    "from jeoparty_passwords import jeo_username\n",
    "from jeoparty_passwords import jeo_password"
   ]
  },
  {
   "cell_type": "code",
   "execution_count": 2,
   "metadata": {},
   "outputs": [],
   "source": [
    "# JSON file containing information for Jeopardy! questions from jQuery.\n",
    "question_file = \"../static/js/cleanedJeoQs.json\""
   ]
  },
  {
   "cell_type": "code",
   "execution_count": 3,
   "metadata": {},
   "outputs": [
    {
     "data": {
      "text/html": [
       "<div>\n",
       "<style scoped>\n",
       "    .dataframe tbody tr th:only-of-type {\n",
       "        vertical-align: middle;\n",
       "    }\n",
       "\n",
       "    .dataframe tbody tr th {\n",
       "        vertical-align: top;\n",
       "    }\n",
       "\n",
       "    .dataframe thead th {\n",
       "        text-align: right;\n",
       "    }\n",
       "</style>\n",
       "<table border=\"1\" class=\"dataframe\">\n",
       "  <thead>\n",
       "    <tr style=\"text-align: right;\">\n",
       "      <th></th>\n",
       "      <th>show_number</th>\n",
       "      <th>air_date</th>\n",
       "      <th>round</th>\n",
       "      <th>category</th>\n",
       "      <th>value</th>\n",
       "      <th>question</th>\n",
       "      <th>answer</th>\n",
       "    </tr>\n",
       "  </thead>\n",
       "  <tbody>\n",
       "    <tr>\n",
       "      <th>0</th>\n",
       "      <td>4576</td>\n",
       "      <td>6/28/2004</td>\n",
       "      <td>Double Jeopardy!</td>\n",
       "      <td>BEFORE &amp; AFTER</td>\n",
       "      <td>400</td>\n",
       "      <td>1980 scarefest in which mom &amp; daughter switch ...</td>\n",
       "      <td>Freaky Friday the 13th</td>\n",
       "    </tr>\n",
       "    <tr>\n",
       "      <th>1</th>\n",
       "      <td>4576</td>\n",
       "      <td>6/28/2004</td>\n",
       "      <td>Double Jeopardy!</td>\n",
       "      <td>BEFORE &amp; AFTER</td>\n",
       "      <td>800</td>\n",
       "      <td>Leif Ericson's dad who was a huge star with lo...</td>\n",
       "      <td>Erik the Red Giant</td>\n",
       "    </tr>\n",
       "    <tr>\n",
       "      <th>2</th>\n",
       "      <td>4576</td>\n",
       "      <td>6/28/2004</td>\n",
       "      <td>Double Jeopardy!</td>\n",
       "      <td>BEFORE &amp; AFTER</td>\n",
       "      <td>1200</td>\n",
       "      <td>Fictional girl sleuth who's the granddaughter ...</td>\n",
       "      <td>Nancy Drew Barrymore</td>\n",
       "    </tr>\n",
       "  </tbody>\n",
       "</table>\n",
       "</div>"
      ],
      "text/plain": [
       "   show_number   air_date             round        category value  \\\n",
       "0         4576  6/28/2004  Double Jeopardy!  BEFORE & AFTER   400   \n",
       "1         4576  6/28/2004  Double Jeopardy!  BEFORE & AFTER   800   \n",
       "2         4576  6/28/2004  Double Jeopardy!  BEFORE & AFTER  1200   \n",
       "\n",
       "                                            question                  answer  \n",
       "0  1980 scarefest in which mom & daughter switch ...  Freaky Friday the 13th  \n",
       "1  Leif Ericson's dad who was a huge star with lo...      Erik the Red Giant  \n",
       "2  Fictional girl sleuth who's the granddaughter ...    Nancy Drew Barrymore  "
      ]
     },
     "execution_count": 3,
     "metadata": {},
     "output_type": "execute_result"
    }
   ],
   "source": [
    "#Read JSON into the dataframe using pandas.read_json.\n",
    "question_df = pd.read_json(question_file, orient='values')\n",
    "question_df.head(3)"
   ]
  },
  {
   "cell_type": "code",
   "execution_count": 4,
   "metadata": {},
   "outputs": [],
   "source": [
    "#Rename the index \"question_id\"\n",
    "question_df.index.rename(\"question_id\", inplace = True)"
   ]
  },
  {
   "cell_type": "code",
   "execution_count": 11,
   "metadata": {
    "scrolled": true
   },
   "outputs": [
    {
     "data": {
      "text/html": [
       "<div>\n",
       "<style scoped>\n",
       "    .dataframe tbody tr th:only-of-type {\n",
       "        vertical-align: middle;\n",
       "    }\n",
       "\n",
       "    .dataframe tbody tr th {\n",
       "        vertical-align: top;\n",
       "    }\n",
       "\n",
       "    .dataframe thead th {\n",
       "        text-align: right;\n",
       "    }\n",
       "</style>\n",
       "<table border=\"1\" class=\"dataframe\">\n",
       "  <thead>\n",
       "    <tr style=\"text-align: right;\">\n",
       "      <th></th>\n",
       "      <th>show_number</th>\n",
       "      <th>air_date</th>\n",
       "      <th>round</th>\n",
       "      <th>category</th>\n",
       "      <th>value</th>\n",
       "      <th>question</th>\n",
       "      <th>answer</th>\n",
       "    </tr>\n",
       "    <tr>\n",
       "      <th>question_id</th>\n",
       "      <th></th>\n",
       "      <th></th>\n",
       "      <th></th>\n",
       "      <th></th>\n",
       "      <th></th>\n",
       "      <th></th>\n",
       "      <th></th>\n",
       "    </tr>\n",
       "  </thead>\n",
       "  <tbody>\n",
       "    <tr>\n",
       "      <th>0</th>\n",
       "      <td>4576</td>\n",
       "      <td>6/28/2004</td>\n",
       "      <td>Double Jeopardy!</td>\n",
       "      <td>BEFORE &amp; AFTER</td>\n",
       "      <td>400</td>\n",
       "      <td>1980 scarefest in which mom &amp; daughter switch ...</td>\n",
       "      <td>Freaky Friday the 13th</td>\n",
       "    </tr>\n",
       "    <tr>\n",
       "      <th>1</th>\n",
       "      <td>4576</td>\n",
       "      <td>6/28/2004</td>\n",
       "      <td>Double Jeopardy!</td>\n",
       "      <td>BEFORE &amp; AFTER</td>\n",
       "      <td>800</td>\n",
       "      <td>Leif Ericson's dad who was a huge star with lo...</td>\n",
       "      <td>Erik the Red Giant</td>\n",
       "    </tr>\n",
       "    <tr>\n",
       "      <th>2</th>\n",
       "      <td>4576</td>\n",
       "      <td>6/28/2004</td>\n",
       "      <td>Double Jeopardy!</td>\n",
       "      <td>BEFORE &amp; AFTER</td>\n",
       "      <td>1200</td>\n",
       "      <td>Fictional girl sleuth who's the granddaughter ...</td>\n",
       "      <td>Nancy Drew Barrymore</td>\n",
       "    </tr>\n",
       "    <tr>\n",
       "      <th>3</th>\n",
       "      <td>4576</td>\n",
       "      <td>6/28/2004</td>\n",
       "      <td>Double Jeopardy!</td>\n",
       "      <td>BEFORE &amp; AFTER</td>\n",
       "      <td>1600</td>\n",
       "      <td>Projection at the southern tip of South Americ...</td>\n",
       "      <td>Cape Horn o' Plenty</td>\n",
       "    </tr>\n",
       "    <tr>\n",
       "      <th>4</th>\n",
       "      <td>4576</td>\n",
       "      <td>6/28/2004</td>\n",
       "      <td>Double Jeopardy!</td>\n",
       "      <td>BEFORE &amp; AFTER</td>\n",
       "      <td>2000</td>\n",
       "      <td>\"Lethal Weapon\" director whose group was caugh...</td>\n",
       "      <td>the Richard Donner Party</td>\n",
       "    </tr>\n",
       "    <tr>\n",
       "      <th>5</th>\n",
       "      <td>5173</td>\n",
       "      <td>2/21/2007</td>\n",
       "      <td>Jeopardy!</td>\n",
       "      <td>BEFORE &amp; AFTER</td>\n",
       "      <td>200</td>\n",
       "      <td>\"Thin\" piece of disputed Israeli-Palestinian l...</td>\n",
       "      <td>Gaza Strip Poker</td>\n",
       "    </tr>\n",
       "    <tr>\n",
       "      <th>6</th>\n",
       "      <td>5173</td>\n",
       "      <td>2/21/2007</td>\n",
       "      <td>Jeopardy!</td>\n",
       "      <td>BEFORE &amp; AFTER</td>\n",
       "      <td>400</td>\n",
       "      <td>Film legend who became an 1823 edict against E...</td>\n",
       "      <td>the Marilyn Monroe Doctrine</td>\n",
       "    </tr>\n",
       "    <tr>\n",
       "      <th>7</th>\n",
       "      <td>5173</td>\n",
       "      <td>2/21/2007</td>\n",
       "      <td>Jeopardy!</td>\n",
       "      <td>BEFORE &amp; AFTER</td>\n",
       "      <td>600</td>\n",
       "      <td>\"Bouncy\" 1965 Beatles album that took over for...</td>\n",
       "      <td>Rubber Soul Train</td>\n",
       "    </tr>\n",
       "    <tr>\n",
       "      <th>8</th>\n",
       "      <td>5173</td>\n",
       "      <td>2/21/2007</td>\n",
       "      <td>Jeopardy!</td>\n",
       "      <td>BEFORE &amp; AFTER</td>\n",
       "      <td>1000</td>\n",
       "      <td>Robert E. Lee's \"right arm\" general who sang \"...</td>\n",
       "      <td>Stonewall Jackson 5</td>\n",
       "    </tr>\n",
       "    <tr>\n",
       "      <th>9</th>\n",
       "      <td>5173</td>\n",
       "      <td>2/21/2007</td>\n",
       "      <td>Jeopardy!</td>\n",
       "      <td>BEFORE &amp; AFTER</td>\n",
       "      <td>1000</td>\n",
       "      <td>1935 \"lunar\" Florida song that turned into an ...</td>\n",
       "      <td>\"Moon Over Miami Vice\"</td>\n",
       "    </tr>\n",
       "  </tbody>\n",
       "</table>\n",
       "</div>"
      ],
      "text/plain": [
       "             show_number   air_date             round        category value  \\\n",
       "question_id                                                                   \n",
       "0                   4576  6/28/2004  Double Jeopardy!  BEFORE & AFTER   400   \n",
       "1                   4576  6/28/2004  Double Jeopardy!  BEFORE & AFTER   800   \n",
       "2                   4576  6/28/2004  Double Jeopardy!  BEFORE & AFTER  1200   \n",
       "3                   4576  6/28/2004  Double Jeopardy!  BEFORE & AFTER  1600   \n",
       "4                   4576  6/28/2004  Double Jeopardy!  BEFORE & AFTER  2000   \n",
       "5                   5173  2/21/2007         Jeopardy!  BEFORE & AFTER   200   \n",
       "6                   5173  2/21/2007         Jeopardy!  BEFORE & AFTER   400   \n",
       "7                   5173  2/21/2007         Jeopardy!  BEFORE & AFTER   600   \n",
       "8                   5173  2/21/2007         Jeopardy!  BEFORE & AFTER  1000   \n",
       "9                   5173  2/21/2007         Jeopardy!  BEFORE & AFTER  1000   \n",
       "\n",
       "                                                      question  \\\n",
       "question_id                                                      \n",
       "0            1980 scarefest in which mom & daughter switch ...   \n",
       "1            Leif Ericson's dad who was a huge star with lo...   \n",
       "2            Fictional girl sleuth who's the granddaughter ...   \n",
       "3            Projection at the southern tip of South Americ...   \n",
       "4            \"Lethal Weapon\" director whose group was caugh...   \n",
       "5            \"Thin\" piece of disputed Israeli-Palestinian l...   \n",
       "6            Film legend who became an 1823 edict against E...   \n",
       "7            \"Bouncy\" 1965 Beatles album that took over for...   \n",
       "8            Robert E. Lee's \"right arm\" general who sang \"...   \n",
       "9            1935 \"lunar\" Florida song that turned into an ...   \n",
       "\n",
       "                                  answer  \n",
       "question_id                               \n",
       "0                 Freaky Friday the 13th  \n",
       "1                     Erik the Red Giant  \n",
       "2                   Nancy Drew Barrymore  \n",
       "3                    Cape Horn o' Plenty  \n",
       "4               the Richard Donner Party  \n",
       "5                       Gaza Strip Poker  \n",
       "6            the Marilyn Monroe Doctrine  \n",
       "7                      Rubber Soul Train  \n",
       "8                    Stonewall Jackson 5  \n",
       "9                 \"Moon Over Miami Vice\"  "
      ]
     },
     "execution_count": 11,
     "metadata": {},
     "output_type": "execute_result"
    }
   ],
   "source": [
    "#Visually inspect dataframe\n",
    "question_df.head(10)"
   ]
  },
  {
   "cell_type": "code",
   "execution_count": 6,
   "metadata": {},
   "outputs": [],
   "source": [
    "# Create Connection to 'jeoparty' postgres database\n",
    "# This connection string will use information from the 'jeoparty_passwords.py' file.\n",
    "connection_string = f\"{jeo_username}:{jeo_password}@localhost:5432/jeoparty\"\n",
    "engine = create_engine(f'postgresql://{connection_string}')"
   ]
  },
  {
   "cell_type": "code",
   "execution_count": 7,
   "metadata": {},
   "outputs": [
    {
     "name": "stderr",
     "output_type": "stream",
     "text": [
      "/var/folders/_v/q5hgp4y91q79zfpg0c6yckfm0000gn/T/ipykernel_3670/1246274019.py:2: SADeprecationWarning: The Engine.table_names() method is deprecated and will be removed in a future release.  Please refer to Inspector.get_table_names(). (deprecated since: 1.4)\n",
      "  engine.table_names()\n"
     ]
    },
    {
     "data": {
      "text/plain": [
       "['contestants', 'categories', 'questions']"
      ]
     },
     "execution_count": 7,
     "metadata": {},
     "output_type": "execute_result"
    }
   ],
   "source": [
    "# Confirm appropriate table names exist.\n",
    "engine.table_names()"
   ]
  },
  {
   "cell_type": "code",
   "execution_count": 10,
   "metadata": {},
   "outputs": [
    {
     "data": {
      "text/plain": [
       "228"
      ]
     },
     "execution_count": 10,
     "metadata": {},
     "output_type": "execute_result"
    }
   ],
   "source": [
    "#Append data in dataframe to 'questions' table\n",
    "question_df.to_sql(name='questions', con=engine, if_exists='append', index=True)"
   ]
  },
  {
   "cell_type": "code",
   "execution_count": null,
   "metadata": {},
   "outputs": [],
   "source": []
  }
 ],
 "metadata": {
  "kernelspec": {
   "display_name": "PythonData",
   "language": "python",
   "name": "pythondata"
  },
  "language_info": {
   "codemirror_mode": {
    "name": "ipython",
    "version": 3
   },
   "file_extension": ".py",
   "mimetype": "text/x-python",
   "name": "python",
   "nbconvert_exporter": "python",
   "pygments_lexer": "ipython3",
   "version": "3.10.8"
  }
 },
 "nbformat": 4,
 "nbformat_minor": 2
}
